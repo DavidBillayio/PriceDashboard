{
  "nbformat": 4,
  "nbformat_minor": 0,
  "metadata": {
    "colab": {
      "name": "PriceDashboard.ipynb",
      "provenance": [],
      "authorship_tag": "ABX9TyPk944w4BKhY+irzkowpGJ8",
      "include_colab_link": true
    },
    "kernelspec": {
      "name": "python3",
      "display_name": "Python 3"
    }
  },
  "cells": [
    {
      "cell_type": "markdown",
      "metadata": {
        "id": "view-in-github",
        "colab_type": "text"
      },
      "source": [
        "<a href=\"https://colab.research.google.com/github/DavidBillayio/PriceDashboard/blob/main/PriceDashboard.ipynb\" target=\"_parent\"><img src=\"https://colab.research.google.com/assets/colab-badge.svg\" alt=\"Open In Colab\"/></a>"
      ]
    },
    {
      "cell_type": "markdown",
      "metadata": {
        "id": "laWe1FN8BcTV"
      },
      "source": [
        "# Welcome to the Price Dashboard\n",
        "\n",
        "Here we scrape Yahoo Finance for price data and export the data to a csv file."
      ]
    },
    {
      "cell_type": "code",
      "metadata": {
        "id": "Vw4QDZIIBaqK"
      },
      "source": [
        "# first we import the required modules\n",
        "\n",
        "from bs4 import BeautifulSoup\n",
        "import requests\n",
        "import sched, time, datetime\n",
        "import pandas as pd"
      ],
      "execution_count": null,
      "outputs": []
    },
    {
      "cell_type": "code",
      "metadata": {
        "id": "mHBt9unYBtXv"
      },
      "source": [
        "#Then we define our scheduler class so the program can run automatically\n",
        "class PeriodicScheduler(object):                                                  \n",
        "    def __init__(self):                                                           \n",
        "        self.scheduler = sched.scheduler(time.time, time.sleep)                   \n",
        "                                                                            \n",
        "    def setup(self, interval, action, actionargs=()):                             \n",
        "        action(*actionargs)                                                       \n",
        "        self.scheduler.enter(interval, 1, self.setup,                             \n",
        "                        (interval, action, actionargs))                           \n",
        "                                                                        \n",
        "    def run(self):                                                                \n",
        "        self.scheduler.run()"
      ],
      "execution_count": null,
      "outputs": []
    },
    {
      "cell_type": "code",
      "metadata": {
        "id": "THSdvN44BteP"
      },
      "source": [
        "#Then we will define our various functions that will run our dashboard\n",
        "def getPrice(link):\n",
        "    \"\"\"Scrape the links to get the prices\"\"\"\n",
        "    r = requests.get(link)\n",
        "    soup = BeautifulSoup(r.text, 'lxml')\n",
        "    price = soup.find_all('div', {'class' :'D(ib) Mend(20px)'})[0].find('span').text\n",
        "    return price\n",
        "\n",
        "def periodic(interval, action, actionargs=()):\n",
        "    \"\"\"our periodic function to run our PriceRefresh function\"\"\"\n",
        "    sched.scheduler.enter(interval, 1, periodic, priceRefresh, actionargs)\n",
        "    action(*actionargs)\n",
        "\n",
        "def priceRefresh(links, update_time,Price_df): \n",
        "    \"\"\"Our priceRefresh function iterates through the links and pulls the prices\n",
        "        This also creates our update function for the .csv file\n",
        "    \"\"\"\n",
        "    update = []\n",
        "    update.append(update_time)\n",
        "    for link in links:\n",
        "        price = getPrice(links[link])\n",
        "        print('The value of {} is {}'.format(link, price))\n",
        "        update.append(price)\n",
        "    update_df = pd.DataFrame([update])\n",
        "    return update_df\n",
        "\n",
        "def periodic_event():\n",
        "    \"\"\"This is our base function that iterates each time. \n",
        "    We call the priceRefresh function then use the update_df \n",
        "    to add to the .csv file. The csv file is overwritten each iteration.\"\"\"\n",
        "    global Price_df\n",
        "    update_time = datetime.datetime.now()\n",
        "    print(update_time)\n",
        "    update_df = priceRefresh(sitelinks, update_time,Price_df)\n",
        "    Price_df = Price_df.append(update_df)\n",
        "    Price_df.to_csv('PriceData.csv', index = False)\n",
        "    print('Done')\n",
        "    "
      ],
      "execution_count": null,
      "outputs": []
    },
    {
      "cell_type": "code",
      "metadata": {
        "id": "1Du02XcCBtjs"
      },
      "source": [
        "#Here are the sitelinks. Note, if not using these specific yahoo links the code\n",
        "#may not work since the scraper looks at the same area of the website each time\n",
        "# i.e. the price section\n",
        "sitelinks = {\n",
        "    'BTCUSD' : 'https://ca.finance.yahoo.com/quote/BTC-USD?p=BTC-USD',\n",
        "    'ETHUSD' : 'https://ca.finance.yahoo.com/quote/ETH-USD?p=ETH-USD',\n",
        "    'SP500' : 'https://ca.finance.yahoo.com/quote/%5EGSPC?p=^GSPC',\n",
        "    'CADUSD' : 'https://ca.finance.yahoo.com/quote/CADUSD=X?p=CADUSD=X',\n",
        "    'VIX' : 'https://ca.finance.yahoo.com/quote/%5EVIX?p=^VIX'\n",
        "        }"
      ],
      "execution_count": null,
      "outputs": []
    },
    {
      "cell_type": "code",
      "metadata": {
        "id": "0BrakQGgBtms"
      },
      "source": [
        "#here is an example:\n",
        "print(getPrice('https://ca.finance.yahoo.com/quote/%5EIXIC?p=^IXIC'))\n",
        "print(getPrice('https://www.tradingview.com/symbols/NASDAQ-NDAQ/'))"
      ],
      "execution_count": null,
      "outputs": []
    },
    {
      "cell_type": "code",
      "metadata": {
        "id": "9t8xYTTRBthG"
      },
      "source": [
        "#After all of that setup we call our scheduler after initializing our Price dataframe\n",
        "Price_df = pd.DataFrame()\n",
        "\n",
        "interval = 60 # every minute \n",
        "periodic_scheduler = PeriodicScheduler()  \n",
        "periodic_scheduler.setup(interval, periodic_event) # it executes the event just once  \n",
        "periodic_scheduler.run() # it starts the scheduler  "
      ],
      "execution_count": null,
      "outputs": []
    },
    {
      "cell_type": "code",
      "metadata": {
        "id": "bosfJrZPBtbQ"
      },
      "source": [
        ""
      ],
      "execution_count": null,
      "outputs": []
    }
  ]
}