{
  "nbformat": 4,
  "nbformat_minor": 0,
  "metadata": {
    "colab": {
      "name": "PriceDashboard.ipynb",
      "provenance": [],
      "collapsed_sections": [],
      "toc_visible": true,
      "authorship_tag": "ABX9TyOGS/FxpEkmOaXW2N/rfMzX",
      "include_colab_link": true
    },
    "kernelspec": {
      "name": "python3",
      "display_name": "Python 3"
    }
  },
  "cells": [
    {
      "cell_type": "markdown",
      "metadata": {
        "id": "view-in-github",
        "colab_type": "text"
      },
      "source": [
        "<a href=\"https://colab.research.google.com/github/DavidBillayio/PriceDashboard/blob/main/PriceDashboard.ipynb\" target=\"_parent\"><img src=\"https://colab.research.google.com/assets/colab-badge.svg\" alt=\"Open In Colab\"/></a>"
      ]
    },
    {
      "cell_type": "markdown",
      "metadata": {
        "id": "laWe1FN8BcTV"
      },
      "source": [
        "# Welcome to the Price Dashboard\n",
        "\n",
        "Here we scrape Yahoo Finance for price data and export the data to a csv file."
      ]
    },
    {
      "cell_type": "code",
      "metadata": {
        "id": "Vw4QDZIIBaqK"
      },
      "source": [
        "# first we import the required modules\n",
        "\n",
        "from bs4 import BeautifulSoup\n",
        "import requests\n",
        "import sched, time, datetime\n",
        "import pandas as pd\n",
        "import numpy as np"
      ],
      "execution_count": 1,
      "outputs": []
    },
    {
      "cell_type": "code",
      "metadata": {
        "id": "mHBt9unYBtXv"
      },
      "source": [
        "#Then we define our scheduler class so the program can run automatically\n",
        "class PeriodicScheduler(object):                                                  \n",
        "    def __init__(self):                                                           \n",
        "        self.scheduler = sched.scheduler(time.time, time.sleep)                   \n",
        "                                                                            \n",
        "    def setup(self, interval, action, actionargs=()):                             \n",
        "        action(*actionargs)                                                       \n",
        "        self.scheduler.enter(interval, 1, self.setup,                             \n",
        "                        (interval, action, actionargs))                           \n",
        "                                                                        \n",
        "    def run(self):                                                                \n",
        "        self.scheduler.run()"
      ],
      "execution_count": 2,
      "outputs": []
    },
    {
      "cell_type": "code",
      "metadata": {
        "id": "THSdvN44BteP"
      },
      "source": [
        "#Then we will define our various functions that will run our dashboard\n",
        "def getPrice(link):\n",
        "    \"\"\"Scrape the links to get the prices\"\"\"\n",
        "    r = requests.get(link)\n",
        "    soup = BeautifulSoup(r.text, 'lxml')\n",
        "    price = soup.find_all('div', {'class' :'D(ib) Mend(20px)'})[0].find('span').text\n",
        "    return price\n",
        "\n",
        "def periodic(interval, action, actionargs=()):\n",
        "    \"\"\"our periodic function to run our PriceRefresh function\"\"\"\n",
        "    sched.scheduler.enter(interval, 1, periodic, priceRefresh, actionargs)\n",
        "    action(*actionargs)\n",
        "\n",
        "def priceRefresh(links, update_time,Price_df): \n",
        "    \"\"\"Our priceRefresh function iterates through the links and pulls the prices\n",
        "        This also creates our update function for the .csv file\n",
        "    \"\"\"\n",
        "    global column_names\n",
        "    update_df = pd.DataFrame([list(np.zeros(len(sitelinks) + 1))], columns = column_names)\n",
        "    update_df['time'] = (update_time)\n",
        "    for link in links:\n",
        "        price = getPrice(links[link])\n",
        "        print('The value of {} is {}'.format(link, price))\n",
        "        update_df[link] = price \n",
        "    return update_df\n",
        "\n",
        "def periodic_event():\n",
        "    \"\"\"This is our base function that iterates each time. \n",
        "    We call the priceRefresh function then use the update_df \n",
        "    to add to the .csv file. The csv file is overwritten each iteration.\"\"\"\n",
        "    global Price_df\n",
        "    update_time = datetime.datetime.now()\n",
        "    print(update_time)\n",
        "    update_df = priceRefresh(sitelinks, update_time,Price_df)\n",
        "    Price_df = Price_df.append(update_df)\n",
        "    \n",
        "    Price_df.to_csv('PriceData.csv', index = False)\n",
        "    print('Done')\n",
        "    "
      ],
      "execution_count": 8,
      "outputs": []
    },
    {
      "cell_type": "code",
      "metadata": {
        "id": "1Du02XcCBtjs"
      },
      "source": [
        "#Here are the sitelinks. Note, if not using these specific yahoo links the code\n",
        "#may not work since the scraper looks at the same area of the website each time\n",
        "# i.e. the price section\n",
        "sitelinks = {\n",
        "    'BTCUSD' : 'https://ca.finance.yahoo.com/quote/BTC-USD?p=BTC-USD',\n",
        "    'ETHUSD' : 'https://ca.finance.yahoo.com/quote/ETH-USD?p=ETH-USD',\n",
        "    'SP500' : 'https://ca.finance.yahoo.com/quote/%5EGSPC?p=^GSPC',\n",
        "    'CADUSD' : 'https://ca.finance.yahoo.com/quote/CADUSD=X?p=CADUSD=X',\n",
        "    'VIX' : 'https://ca.finance.yahoo.com/quote/%5EVIX?p=^VIX'\n",
        "        }"
      ],
      "execution_count": 4,
      "outputs": []
    },
    {
      "cell_type": "code",
      "metadata": {
        "id": "0BrakQGgBtms",
        "outputId": "d3ba1a49-3939-4338-e953-65f8a5b553ff",
        "colab": {
          "base_uri": "https://localhost:8080/",
          "height": 367
        }
      },
      "source": [
        "#here is an example:\n",
        "print(getPrice('https://ca.finance.yahoo.com/quote/%5EIXIC?p=^IXIC'))\n",
        "print(getPrice('https://www.tradingview.com/symbols/NASDAQ-NDAQ/'))\n",
        "\n",
        "#\"List index out of range\" means that there aren't any values that match the\n",
        "#find_all function. i.e. no matches for the search.\n",
        "\n",
        "#However, you will notice that the value for the NASDAQ was printed.\n",
        "\n",
        "#This error won't affect our next code box."
      ],
      "execution_count": 5,
      "outputs": [
        {
          "output_type": "stream",
          "text": [
            "11,420.98\n"
          ],
          "name": "stdout"
        },
        {
          "output_type": "error",
          "ename": "IndexError",
          "evalue": "ignored",
          "traceback": [
            "\u001b[0;31m---------------------------------------------------------------------------\u001b[0m",
            "\u001b[0;31mIndexError\u001b[0m                                Traceback (most recent call last)",
            "\u001b[0;32m<ipython-input-5-54a3648a256e>\u001b[0m in \u001b[0;36m<module>\u001b[0;34m()\u001b[0m\n\u001b[1;32m      1\u001b[0m \u001b[0;31m#here is an example:\u001b[0m\u001b[0;34m\u001b[0m\u001b[0;34m\u001b[0m\u001b[0;34m\u001b[0m\u001b[0m\n\u001b[1;32m      2\u001b[0m \u001b[0mprint\u001b[0m\u001b[0;34m(\u001b[0m\u001b[0mgetPrice\u001b[0m\u001b[0;34m(\u001b[0m\u001b[0;34m'https://ca.finance.yahoo.com/quote/%5EIXIC?p=^IXIC'\u001b[0m\u001b[0;34m)\u001b[0m\u001b[0;34m)\u001b[0m\u001b[0;34m\u001b[0m\u001b[0;34m\u001b[0m\u001b[0m\n\u001b[0;32m----> 3\u001b[0;31m \u001b[0mprint\u001b[0m\u001b[0;34m(\u001b[0m\u001b[0mgetPrice\u001b[0m\u001b[0;34m(\u001b[0m\u001b[0;34m'https://www.tradingview.com/symbols/NASDAQ-NDAQ/'\u001b[0m\u001b[0;34m)\u001b[0m\u001b[0;34m)\u001b[0m\u001b[0;34m\u001b[0m\u001b[0;34m\u001b[0m\u001b[0m\n\u001b[0m\u001b[1;32m      4\u001b[0m \u001b[0;34m\u001b[0m\u001b[0m\n\u001b[1;32m      5\u001b[0m \u001b[0;31m#\"List index out of range\" means that there aren't any values that match the\u001b[0m\u001b[0;34m\u001b[0m\u001b[0;34m\u001b[0m\u001b[0;34m\u001b[0m\u001b[0m\n",
            "\u001b[0;32m<ipython-input-3-bec0cd980163>\u001b[0m in \u001b[0;36mgetPrice\u001b[0;34m(link)\u001b[0m\n\u001b[1;32m      4\u001b[0m     \u001b[0mr\u001b[0m \u001b[0;34m=\u001b[0m \u001b[0mrequests\u001b[0m\u001b[0;34m.\u001b[0m\u001b[0mget\u001b[0m\u001b[0;34m(\u001b[0m\u001b[0mlink\u001b[0m\u001b[0;34m)\u001b[0m\u001b[0;34m\u001b[0m\u001b[0;34m\u001b[0m\u001b[0m\n\u001b[1;32m      5\u001b[0m     \u001b[0msoup\u001b[0m \u001b[0;34m=\u001b[0m \u001b[0mBeautifulSoup\u001b[0m\u001b[0;34m(\u001b[0m\u001b[0mr\u001b[0m\u001b[0;34m.\u001b[0m\u001b[0mtext\u001b[0m\u001b[0;34m,\u001b[0m \u001b[0;34m'lxml'\u001b[0m\u001b[0;34m)\u001b[0m\u001b[0;34m\u001b[0m\u001b[0;34m\u001b[0m\u001b[0m\n\u001b[0;32m----> 6\u001b[0;31m     \u001b[0mprice\u001b[0m \u001b[0;34m=\u001b[0m \u001b[0msoup\u001b[0m\u001b[0;34m.\u001b[0m\u001b[0mfind_all\u001b[0m\u001b[0;34m(\u001b[0m\u001b[0;34m'div'\u001b[0m\u001b[0;34m,\u001b[0m \u001b[0;34m{\u001b[0m\u001b[0;34m'class'\u001b[0m \u001b[0;34m:\u001b[0m\u001b[0;34m'D(ib) Mend(20px)'\u001b[0m\u001b[0;34m}\u001b[0m\u001b[0;34m)\u001b[0m\u001b[0;34m[\u001b[0m\u001b[0;36m0\u001b[0m\u001b[0;34m]\u001b[0m\u001b[0;34m.\u001b[0m\u001b[0mfind\u001b[0m\u001b[0;34m(\u001b[0m\u001b[0;34m'span'\u001b[0m\u001b[0;34m)\u001b[0m\u001b[0;34m.\u001b[0m\u001b[0mtext\u001b[0m\u001b[0;34m\u001b[0m\u001b[0;34m\u001b[0m\u001b[0m\n\u001b[0m\u001b[1;32m      7\u001b[0m     \u001b[0;32mreturn\u001b[0m \u001b[0mprice\u001b[0m\u001b[0;34m\u001b[0m\u001b[0;34m\u001b[0m\u001b[0m\n\u001b[1;32m      8\u001b[0m \u001b[0;34m\u001b[0m\u001b[0m\n",
            "\u001b[0;31mIndexError\u001b[0m: list index out of range"
          ]
        }
      ]
    },
    {
      "cell_type": "code",
      "metadata": {
        "id": "9t8xYTTRBthG",
        "outputId": "1f5f71f8-3ee4-454b-de03-e7b44c5f52ed",
        "colab": {
          "base_uri": "https://localhost:8080/",
          "height": 136
        }
      },
      "source": [
        "#After all of that setup we call our scheduler after initializing our Price dataframe\n",
        "\n",
        "column_names = list(sitelinks.keys())\n",
        "column_names.insert(0,'time')\n",
        "Price_df = pd.DataFrame([list(np.zeros(len(sitelinks) + 1))], columns = column_names)\n",
        "\n",
        "\n",
        "\n",
        "interval = 60 # every minute \n",
        "periodic_scheduler = PeriodicScheduler()  \n",
        "periodic_scheduler.setup(interval, periodic_event) # it executes the event just once  \n",
        "periodic_scheduler.run() # it starts the scheduler  "
      ],
      "execution_count": null,
      "outputs": [
        {
          "output_type": "stream",
          "text": [
            "2020-10-08 20:25:36.024187\n",
            "The value of BTCUSD is 10,876.52\n",
            "The value of ETHUSD is 351.00\n",
            "The value of SP500 is 3,446.83\n",
            "The value of CADUSD is 0.7578\n",
            "The value of VIX is 26.42\n",
            "Done\n"
          ],
          "name": "stdout"
        }
      ]
    },
    {
      "cell_type": "markdown",
      "metadata": {
        "id": "dWew9haIF5X6"
      },
      "source": [
        "If you open the file folder icon on the left hand side you will notice our PriceData.csv file is created after the first iteration and updated with new data every minute."
      ]
    }
  ]
}